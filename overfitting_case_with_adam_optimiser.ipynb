{
  "nbformat": 4,
  "nbformat_minor": 0,
  "metadata": {
    "colab": {
      "name": "overfitting case with adam optimiser",
      "provenance": [],
      "collapsed_sections": [],
      "toc_visible": true,
      "include_colab_link": true
    },
    "kernelspec": {
      "display_name": "Python 3",
      "name": "python3"
    }
  },
  "cells": [
    {
      "cell_type": "markdown",
      "metadata": {
        "id": "view-in-github",
        "colab_type": "text"
      },
      "source": [
        "<a href=\"https://colab.research.google.com/github/neha702/Sentence-completion/blob/master/overfitting_case_with_adam_optimiser.ipynb\" target=\"_parent\"><img src=\"https://colab.research.google.com/assets/colab-badge.svg\" alt=\"Open In Colab\"/></a>"
      ]
    },
    {
      "cell_type": "markdown",
      "metadata": {
        "colab_type": "text",
        "id": "5fCEDCU_qrC0"
      },
      "source": [
        "<p><img alt=\"Colaboratory logo\" height=\"45px\" src=\"/img/colab_favicon.ico\" align=\"left\" hspace=\"10px\" vspace=\"0px\"></p>\n",
        "\n",
        "<h1>What is Colaboratory?</h1>\n",
        "\n",
        "Colaboratory, or \"Colab\" for short, allows you to write and execute Python in your browser, with \n",
        "- Zero configuration required\n",
        "- Free access to GPUs\n",
        "- Easy sharing\n",
        "\n",
        "Whether you're a **student**, a **data scientist** or an **AI researcher**, Colab can make your work easier. Watch [Introduction to Colab](https://www.youtube.com/watch?v=inN8seMm7UI) to learn more, or just get started below!"
      ]
    },
    {
      "cell_type": "markdown",
      "metadata": {
        "colab_type": "text",
        "id": "GJBs_flRovLc"
      },
      "source": [
        "## **Getting started**\n",
        "\n",
        "The document you are reading is not a static web page, but an interactive environment called a **Colab notebook** that lets you write and execute code.\n",
        "\n",
        "For example, here is a **code cell** with a short Python script that computes a value, stores it in a variable, and prints the result:"
      ]
    },
    {
      "cell_type": "code",
      "metadata": {
        "colab_type": "code",
        "id": "gJr_9dXGpJ05",
        "outputId": "9f556d03-ec67-4950-a485-cfdba9ddd14d",
        "colab": {
          "base_uri": "https://localhost:8080/",
          "height": 34
        }
      },
      "source": [
        "seconds_in_a_day = 24 * 60 * 60\n",
        "seconds_in_a_day"
      ],
      "execution_count": 0,
      "outputs": [
        {
          "output_type": "execute_result",
          "data": {
            "text/plain": [
              "86400"
            ]
          },
          "metadata": {
            "tags": []
          },
          "execution_count": 0
        }
      ]
    },
    {
      "cell_type": "markdown",
      "metadata": {
        "colab_type": "text",
        "id": "2fhs6GZ4qFMx"
      },
      "source": [
        "To execute the code in the above cell, select it with a click and then either press the play button to the left of the code, or use the keyboard shortcut \"Command/Ctrl+Enter\". To edit the code, just click the cell and start editing.\n",
        "\n",
        "Variables that you define in one cell can later be used in other cells:"
      ]
    },
    {
      "cell_type": "code",
      "metadata": {
        "colab_type": "code",
        "id": "-gE-Ez1qtyIA",
        "outputId": "94cb2224-0edf-457b-90b5-0ac3488d8a97",
        "colab": {
          "base_uri": "https://localhost:8080/",
          "height": 34
        }
      },
      "source": [
        "seconds_in_a_week = 7 * seconds_in_a_day\n",
        "seconds_in_a_week"
      ],
      "execution_count": 0,
      "outputs": [
        {
          "output_type": "execute_result",
          "data": {
            "text/plain": [
              "604800"
            ]
          },
          "metadata": {
            "tags": []
          },
          "execution_count": 0
        }
      ]
    },
    {
      "cell_type": "markdown",
      "metadata": {
        "colab_type": "text",
        "id": "lSrWNr3MuFUS"
      },
      "source": [
        "Colab notebooks allow you to combine **executable code** and **rich text** in a single document, along with **images**, **HTML**, **LaTeX** and more. When you create your own Colab notebooks, they are stored in your Google Drive account. You can easily share your Colab notebooks with co-workers or friends, allowing them to comment on your notebooks or even edit them. To learn more, see [Overview of Colab](/notebooks/basic_features_overview.ipynb). To create a new Colab notebook you can use the File menu above, or use the following link: [create a new Colab notebook](http://colab.research.google.com#create=true).\n",
        "\n",
        "Colab notebooks are Jupyter notebooks that are hosted by Colab. To learn more about the Jupyter project, see [jupyter.org](https://www.jupyter.org)."
      ]
    },
    {
      "cell_type": "markdown",
      "metadata": {
        "colab_type": "text",
        "id": "UdRyKR44dcNI"
      },
      "source": [
        "## Data science\n",
        "\n",
        "With Colab you can harness the full power of popular Python libraries to analyze and visualize data. The code cell below uses **numpy** to generate some random data, and uses **matplotlib** to visualize it. To edit the code, just click the cell and start editing."
      ]
    },
    {
      "cell_type": "code",
      "metadata": {
        "colab_type": "code",
        "id": "C4HZx7Gndbrh",
        "outputId": "46abc637-6abd-41b2-9bba-80a7ae992e06",
        "colab": {
          "base_uri": "https://localhost:8080/",
          "height": 281
        }
      },
      "source": [
        "import numpy as np\n",
        "from matplotlib import pyplot as plt\n",
        "\n",
        "ys = 200 + np.random.randn(100)\n",
        "x = [x for x in range(len(ys))]\n",
        "\n",
        "plt.plot(x, ys, '-')\n",
        "plt.fill_between(x, ys, 195, where=(ys > 195), facecolor='g', alpha=0.6)\n",
        "\n",
        "plt.title(\"Sample Visualization\")\n",
        "plt.show()"
      ],
      "execution_count": 0,
      "outputs": [
        {
          "output_type": "display_data",
          "data": {
            "image/png": "[encoded data removed]",
            "text/plain": [
              "<Figure size 432x288 with 1 Axes>"
            ]
          },
          "metadata": {
            "tags": []
          }
        }
      ]
    },
    {
      "cell_type": "markdown",
      "metadata": {
        "colab_type": "text",
        "id": "4_kCnsPUqS6o"
      },
      "source": [
        "You can import your own data into Colab notebooks from your Google Drive account, including from spreadsheets, as well as from Github and many other sources. To learn more about importing data, and how Colab can be used for data science, see the links below under [Working with Data](#working-with-data)."
      ]
    },
    {
      "cell_type": "markdown",
      "metadata": {
        "colab_type": "text",
        "id": "OwuxHmxllTwN"
      },
      "source": [
        "## Machine learning\n",
        "\n",
        "With Colab you can import an image dataset, train an image classifier on it, and evaluate the model, all in just [a few lines of code](https://colab.research.google.com/github/tensorflow/docs/blob/master/site/en/tutorials/quickstart/beginner.ipynb). Colab notebooks execute code on Google's cloud servers, meaning you can leverage the power of Google hardware, including [GPUs and TPUs](#using-accelerated-hardware), regardless of the power of your machine. All you need is a browser."
      ]
    },
    {
      "cell_type": "markdown",
      "metadata": {
        "colab_type": "text",
        "id": "ufxBm1yRnruN"
      },
      "source": [
        "Colab is used extensively in the machine learning community with applications including:\n",
        "- Getting started with TensorFlow\n",
        "- Developing and training neural networks\n",
        "- Experimenting with TPUs\n",
        "- Disseminating AI research\n",
        "- Creating tutorials\n",
        "\n",
        "To see sample Colab notebooks that demonstrate machine learning applications, see the [machine learning examples](#machine-learning-examples) below."
      ]
    },
    {
      "cell_type": "markdown",
      "metadata": {
        "colab_type": "text",
        "id": "-Rh3-Vt9Nev9"
      },
      "source": [
        "## More Resources\n",
        "\n",
        "### Working with Notebooks in Colab\n",
        "- [Overview of Colaboratory](/notebooks/basic_features_overview.ipynb)\n",
        "- [Guide to Markdown](/notebooks/markdown_guide.ipynb)\n",
        "- [Importing libraries and installing dependencies](/notebooks/snippets/importing_libraries.ipynb)\n",
        "- [Saving and loading notebooks in GitHub](https://colab.research.google.com/github/googlecolab/colabtools/blob/master/notebooks/colab-github-demo.ipynb)\n",
        "- [Interactive forms](/notebooks/forms.ipynb)\n",
        "- [Interactive widgets](/notebooks/widgets.ipynb)\n",
        "- <img src=\"/img/new.png\" height=\"20px\" align=\"left\" hspace=\"4px\" alt=\"New\"></img>\n",
        " [TensorFlow 2 in Colab](/notebooks/tensorflow_version.ipynb)\n",
        "\n",
        "<a name=\"working-with-data\"></a>\n",
        "### Working with Data\n",
        "- [Loading data: Drive, Sheets, and Google Cloud Storage](/notebooks/io.ipynb) \n",
        "- [Charts: visualizing data](/notebooks/charts.ipynb)\n",
        "- [Getting started with BigQuery](/notebooks/bigquery.ipynb)\n",
        "\n",
        "### Machine Learning Crash Course\n",
        "These are a few of the notebooks from Google's online Machine Learning course. See the [full course website](https://developers.google.com/machine-learning/crash-course/) for more.\n",
        "- [Intro to Pandas](/notebooks/mlcc/intro_to_pandas.ipynb)\n",
        "- [Tensorflow concepts](/notebooks/mlcc/tensorflow_programming_concepts.ipynb)\n",
        "- [First steps with TensorFlow](/notebooks/mlcc/first_steps_with_tensor_flow.ipynb)\n",
        "- [Intro to neural nets](/notebooks/mlcc/intro_to_neural_nets.ipynb)\n",
        "- [Intro to sparse data and embeddings](/notebooks/mlcc/intro_to_sparse_data_and_embeddings.ipynb)\n",
        "\n",
        "<a name=\"using-accelerated-hardware\"></a>\n",
        "### Using Accelerated Hardware\n",
        "- [TensorFlow with GPUs](/notebooks/gpu.ipynb)\n",
        "- [TensorFlow with TPUs](/notebooks/tpu.ipynb)"
      ]
    },
    {
      "cell_type": "markdown",
      "metadata": {
        "colab_type": "text",
        "id": "P-H6Lw1vyNNd"
      },
      "source": [
        "<a name=\"machine-learning-examples\"></a>\n",
        "\n",
        "## Machine Learning Examples\n",
        "\n",
        "To see end-to-end examples of the interactive machine learning analyses that Colaboratory makes possible, check out the [AI Hub](https://aihub.cloud.google.com/) project.\n",
        "\n",
        "A few featured examples:\n",
        "\n",
        "- [Neural Style Transfer](https://aihub.cloud.google.com/p/products%2F7f7495dd-6f66-4f8a-8c30-15f211ad6957): Use deep learning to transfer style between images.\n",
        "- [EZ NSynth](https://aihub.cloud.google.com/p/products%2Fcddd17cf-5f86-4ce7-b6b6-03c5e52ee0fb): Synthesize audio with WaveNet auto-encoders.\n",
        "- [Fashion MNIST with Keras and TPUs](https://aihub.cloud.google.com/p/products%2F7a0acf15-0be0-41a6-9bdb-5a5abd4e8fbf): Classify fashion-related images with deep learning.\n",
        "- [DeepDream](https://aihub.cloud.google.com/p/products%2Ff9e8fc11-ad0f-410a-bebe-2482066ce570): Produce DeepDream images from your own photos.\n",
        "- [Convolutional VAE](https://aihub.cloud.google.com/p/products%2Ff5e8dd20-6b34-44a0-bc45-6e345e36a4e7): Create a generative model of handwritten digits."
      ]
    },
    {
      "cell_type": "code",
      "metadata": {
        "id": "ezmwc4tETIFk",
        "colab_type": "code",
        "colab": {}
      },
      "source": [
        ""
      ],
      "execution_count": 0,
      "outputs": []
    },
    {
      "cell_type": "code",
      "metadata": {
        "id": "jysQUqqmTIuT",
        "colab_type": "code",
        "colab": {
          "base_uri": "https://localhost:8080/",
          "height": 1000
        },
        "outputId": "5bef11b5-214b-4731-af01-eccc16bd7977"
      },
      "source": [
        "import numpy as np\n",
        "import pandas as pd\n",
        "import string\n",
        "from matplotlib import pyplot\n",
        "\n",
        "\n",
        "#importing data\n",
        "train_data=pd.read_csv('test.csv',engine='python')\n",
        " # load doc into memory\n",
        "def load_doc(test):\n",
        "\t# open the file as read only\n",
        "\tfile = open(test, 'r')\n",
        "\t# read all text\n",
        "\ttext = file.read()\n",
        "\t# close the file\n",
        "\tfile.close()\n",
        "\treturn text\n",
        "\n",
        "# turn a doc into clean tokens\n",
        "def clean_doc(doc):\n",
        "\t# replace '--' with a space ' '\n",
        "\tdoc = doc.replace('--', ' ')\n",
        "\t# split into tokens by white space\n",
        "\ttokens = doc.split()\n",
        "\t# remove punctuation from each token\n",
        "\ttable = str.maketrans('', '', string.punctuation)\n",
        "\ttokens = [w.translate(table) for w in tokens]\n",
        "\t# remove remaining tokens that are not alphabetic\n",
        "\ttokens = [word for word in tokens if word.isalpha()]\n",
        "\t# make lower case\n",
        "\ttokens = [word.lower() for word in tokens]\n",
        "\treturn tokens\n",
        " \n",
        "# save tokens to file, one dialog per line\n",
        "def save_doc(lines, test):\n",
        "\tdata = '\\n'.join(lines)\n",
        "\tfile = open(test, 'w')\n",
        "\tfile.write(data)\n",
        "\tfile.close()\n",
        " \n",
        "# load document\n",
        "in_filename = 'test.csv'\n",
        "doc = load_doc(in_filename)\n",
        "print(doc[:20])\n",
        " \n",
        "# clean document\n",
        "tokens = clean_doc(doc)\n",
        "print(tokens[:20])\n",
        "print('Total Tokens: %d' % len(tokens))\n",
        "print('Unique Tokens: %d' % len(set(tokens)))\n",
        " \n",
        " \n",
        "# organize into sequences of tokens\n",
        "length =3 + 1\n",
        "sequences = list()\n",
        "for i in range(length, len(tokens)):\n",
        "\t# select sequence of tokens\n",
        "\tseq = tokens[i-length:i]\n",
        "\t# convert into a line\n",
        "\tline = ' '.join(seq)\n",
        "\t# store\n",
        "\tsequences.append(line)\n",
        "print('Total Sequences:%d '%len(sequences))\n",
        " \n",
        "# save sequences to file\n",
        "out_filename = 'test.csv'\n",
        "save_doc(sequences, out_filename)\n",
        "from numpy import array\n",
        "from pickle import dump\n",
        "from keras.preprocessing.text import Tokenizer\n",
        "from keras.utils import to_categorical\n",
        "from keras.models import Sequential\n",
        "from keras.layers import Dense\n",
        "from keras.layers import LSTM\n",
        "from keras.layers import Embedding\n",
        "from keras.optimizers import adam\n",
        "\n",
        "def load_doc(test):\n",
        "\t# open the file as read only\n",
        "\tfile = open(test, 'r')\n",
        "\t# read all text\n",
        "\ttext = file.read()\n",
        "\t# close the file\n",
        "\tfile.close()\n",
        "\treturn text\n",
        "\n",
        "# load\n",
        "in_filename = 'test.csv'\n",
        "doc = load_doc(in_filename)\n",
        "lines = doc.split('\\n')\n",
        "\n",
        "# integer encode sequences of words\n",
        "tokenizer = Tokenizer()\n",
        "tokenizer.fit_on_texts(lines)\n",
        "sequences = tokenizer.texts_to_sequences(lines)\n",
        "# vocabulary size\n",
        "vocab_size = len(tokenizer.word_index) + 1\n",
        "\n",
        "# separate into input and output\n",
        "sequences = array(sequences)\n",
        "X, y = sequences[:,:-1], sequences[:,-1]\n",
        "y = to_categorical(y, num_classes=vocab_size)\n",
        "seq_length = X.shape[1]\n",
        "\n",
        "# define model\n",
        "model = Sequential()\n",
        "model.add(Embedding(vocab_size, 50, input_length=seq_length))\n",
        "model.add(LSTM(120, return_sequences=True))\n",
        "model.add(LSTM(120))\n",
        "model.add(Dense(100, activation='relu'))\n",
        "model.add(Dense(vocab_size, activation='softmax'))\n",
        "print(model.summary())\n",
        "# compile model\n",
        "opt=adam(lr=0.01)\n",
        "model.compile(loss='categorical_crossentropy',  optimizer=opt,metrics=['accuracy'])\n",
        "# fit model\n",
        "history=model.fit(X, y, batch_size=128, epochs=100,validation_split=0.05)\n",
        "#plot learning curves\n",
        "pyplot.plot(history.history['loss'],label='train')\n",
        "pyplot.plot(history.history['val_loss'],label='test')\n",
        "\n",
        "\n",
        "\n",
        "# save the model to   \n",
        "model.save('model.h5')\n",
        "# save the tokenizer\n",
        "dump(tokenizer, open('tokenizer.pkl', 'wb'))\n",
        "\n",
        "from random import randint\n",
        "from pickle import load\n",
        "from keras.models import load_model\n",
        "from keras.preprocessing.sequence import pad_sequences\n",
        " \n",
        "# load doc into memory\n",
        "def load_doc(test):\n",
        "\t# open the file as read only\n",
        "\tfile = open(test, 'r')\n",
        "\t# read all text\n",
        "\ttext = file.read()\n",
        "\t# close the file\n",
        "\tfile.close()\n",
        "\treturn text\n",
        " \n",
        "def generate_seq(model, tokenizer, seq_length, seed_text, n_words):\n",
        "\tresult = list()\n",
        "\tin_text = seed_text\n",
        "\t# generate a fixed number of words\n",
        "\tfor _ in range(n_words):\n",
        "\t\t# encode the text as integer\n",
        "\t\tencoded = tokenizer.texts_to_sequences([in_text])[0]\n",
        "\t\t# truncate sequences to a fixed length\n",
        "\t\tencoded = pad_sequences([encoded], maxlen=seq_length, truncating='pre')\n",
        "\t\t# predict probabilities for each word\n",
        "\t\tyhat = model.predict_classes(encoded, verbose=0)\n",
        "\t\t# map predicted word index to word\n",
        "\t\tout_word = ''\n",
        "\t\tfor word, index in tokenizer.word_index.items():\n",
        "\t\t\tif index == yhat:\n",
        "\t\t\t\tout_word = word\n",
        "\t\t\t\tbreak\n",
        "\t\t# append to input\n",
        "\t\tin_text += ' ' + out_word\n",
        "\t\tresult.append(out_word)\n",
        "\treturn ' '.join(result)\n",
        " \n",
        "# load cleaned text sequences\n",
        "in_filename = 'test.csv'\n",
        "doc = load_doc(in_filename)\n",
        "lines = doc.split('\\n')\n",
        "seq_length = len(lines[0].split()) - 1\n",
        " \n",
        "# load the model\n",
        "model = load_model('model.h5')\n",
        " \n",
        "# load the tokenizer\n",
        "tokenizer = load(open('tokenizer.pkl', 'rb'))\n",
        " \n",
        "# select a seed text\n",
        "seed_text = lines[randint(0,len(lines))]\n",
        "print(seed_text + '\\n')\n",
        " \n",
        "# generate new text\n",
        "generated = generate_seq(model, tokenizer, seq_length, seed_text, 1)\n",
        "print(generated)\n"
      ],
      "execution_count": 1,
      "outputs": [
        {
          "output_type": "stream",
          "text": [
            "\"4\",\"3\",\"Mon May 11 \n",
            "['may', 'utc', 'i', 'loooooooovvvvvveee', 'my', 'not', 'that', 'the', 'dx', 'is', 'cool', 'but', 'the', 'is', 'fantastic', 'in', 'its', 'own', 'right', 'may']\n",
            "Total Tokens: 7082\n",
            "Unique Tokens: 2121\n",
            "Total Sequences:7078 \n"
          ],
          "name": "stdout"
        },
        {
          "output_type": "stream",
          "text": [
            "Using TensorFlow backend.\n"
          ],
          "name": "stderr"
        },
        {
          "output_type": "stream",
          "text": [
            "Model: \"sequential_1\"\n",
            "_________________________________________________________________\n",
            "Layer (type)                 Output Shape              Param #   \n",
            "=================================================================\n",
            "embedding_1 (Embedding)      (None, 3, 50)             106100    \n",
            "_________________________________________________________________\n",
            "lstm_1 (LSTM)                (None, 3, 120)            82080     \n",
            "_________________________________________________________________\n",
            "lstm_2 (LSTM)                (None, 120)               115680    \n",
            "_________________________________________________________________\n",
            "dense_1 (Dense)              (None, 100)               12100     \n",
            "_________________________________________________________________\n",
            "dense_2 (Dense)              (None, 2122)              214322    \n",
            "=================================================================\n",
            "Total params: 530,282\n",
            "Trainable params: 530,282\n",
            "Non-trainable params: 0\n",
            "_________________________________________________________________\n",
            "None\n"
          ],
          "name": "stdout"
        },
        {
          "output_type": "stream",
          "text": [
            "/usr/local/lib/python3.6/dist-packages/tensorflow/python/framework/indexed_slices.py:434: UserWarning: Converting sparse IndexedSlices to a dense Tensor of unknown shape. This may consume a large amount of memory.\n",
            "  \"Converting sparse IndexedSlices to a dense Tensor of unknown shape. \"\n"
          ],
          "name": "stderr"
        },
        {
          "output_type": "stream",
          "text": [
            "Train on 6724 samples, validate on 354 samples\n",
            "Epoch 1/100\n",
            "6724/6724 [==============================] - 3s 460us/step - loss: 6.8284 - accuracy: 0.0663 - val_loss: 6.8524 - val_accuracy: 0.0593\n",
            "Epoch 2/100\n",
            "6724/6724 [==============================] - 2s 299us/step - loss: 6.0470 - accuracy: 0.0958 - val_loss: 6.8629 - val_accuracy: 0.0706\n",
            "Epoch 3/100\n",
            "6724/6724 [==============================] - 2s 308us/step - loss: 5.7615 - accuracy: 0.1264 - val_loss: 7.0853 - val_accuracy: 0.0763\n",
            "Epoch 4/100\n",
            "6724/6724 [==============================] - 2s 299us/step - loss: 5.5107 - accuracy: 0.1392 - val_loss: 7.3177 - val_accuracy: 0.0791\n",
            "Epoch 5/100\n",
            "6724/6724 [==============================] - 2s 304us/step - loss: 5.2669 - accuracy: 0.1468 - val_loss: 7.6780 - val_accuracy: 0.1017\n",
            "Epoch 6/100\n",
            "6724/6724 [==============================] - 2s 304us/step - loss: 5.0207 - accuracy: 0.1608 - val_loss: 7.9717 - val_accuracy: 0.0706\n",
            "Epoch 7/100\n",
            "6724/6724 [==============================] - 2s 298us/step - loss: 4.7707 - accuracy: 0.1746 - val_loss: 8.4835 - val_accuracy: 0.0650\n",
            "Epoch 8/100\n",
            "6724/6724 [==============================] - 2s 303us/step - loss: 4.4717 - accuracy: 0.1984 - val_loss: 9.0183 - val_accuracy: 0.0734\n",
            "Epoch 9/100\n",
            "6724/6724 [==============================] - 2s 302us/step - loss: 4.1851 - accuracy: 0.2186 - val_loss: 8.8460 - val_accuracy: 0.0847\n",
            "Epoch 10/100\n",
            "6724/6724 [==============================] - 2s 300us/step - loss: 3.8581 - accuracy: 0.2469 - val_loss: 9.7556 - val_accuracy: 0.0847\n",
            "Epoch 11/100\n",
            "6724/6724 [==============================] - 2s 302us/step - loss: 3.5296 - accuracy: 0.2699 - val_loss: 10.8097 - val_accuracy: 0.0791\n",
            "Epoch 12/100\n",
            "6724/6724 [==============================] - 2s 312us/step - loss: 3.1927 - accuracy: 0.3081 - val_loss: 11.3918 - val_accuracy: 0.0763\n",
            "Epoch 13/100\n",
            "6724/6724 [==============================] - 2s 313us/step - loss: 2.7931 - accuracy: 0.3632 - val_loss: 12.2307 - val_accuracy: 0.0706\n",
            "Epoch 14/100\n",
            "6724/6724 [==============================] - 2s 308us/step - loss: 2.4820 - accuracy: 0.4066 - val_loss: 13.2912 - val_accuracy: 0.0819\n",
            "Epoch 15/100\n",
            "6724/6724 [==============================] - 2s 299us/step - loss: 2.1697 - accuracy: 0.4646 - val_loss: 14.1724 - val_accuracy: 0.0791\n",
            "Epoch 16/100\n",
            "6724/6724 [==============================] - 2s 300us/step - loss: 1.8687 - accuracy: 0.5289 - val_loss: 15.1148 - val_accuracy: 0.0763\n",
            "Epoch 17/100\n",
            "6724/6724 [==============================] - 2s 302us/step - loss: 1.5313 - accuracy: 0.6109 - val_loss: 16.4767 - val_accuracy: 0.0791\n",
            "Epoch 18/100\n",
            "6724/6724 [==============================] - 2s 297us/step - loss: 1.3464 - accuracy: 0.6474 - val_loss: 17.1312 - val_accuracy: 0.0819\n",
            "Epoch 19/100\n",
            "6724/6724 [==============================] - 2s 307us/step - loss: 1.0983 - accuracy: 0.7085 - val_loss: 18.2209 - val_accuracy: 0.0763\n",
            "Epoch 20/100\n",
            "6724/6724 [==============================] - 2s 300us/step - loss: 0.9108 - accuracy: 0.7591 - val_loss: 19.5556 - val_accuracy: 0.0734\n",
            "Epoch 21/100\n",
            "6724/6724 [==============================] - 2s 301us/step - loss: 0.8160 - accuracy: 0.7852 - val_loss: 19.6627 - val_accuracy: 0.0706\n",
            "Epoch 22/100\n",
            "6724/6724 [==============================] - 2s 300us/step - loss: 0.6956 - accuracy: 0.8145 - val_loss: 20.3923 - val_accuracy: 0.0734\n",
            "Epoch 23/100\n",
            "6724/6724 [==============================] - 2s 298us/step - loss: 0.6058 - accuracy: 0.8373 - val_loss: 21.2905 - val_accuracy: 0.0847\n",
            "Epoch 24/100\n",
            "6724/6724 [==============================] - 2s 305us/step - loss: 0.5251 - accuracy: 0.8568 - val_loss: 21.5958 - val_accuracy: 0.0763\n",
            "Epoch 25/100\n",
            "6724/6724 [==============================] - 2s 301us/step - loss: 0.4841 - accuracy: 0.8653 - val_loss: 21.8715 - val_accuracy: 0.0678\n",
            "Epoch 26/100\n",
            "6724/6724 [==============================] - 2s 301us/step - loss: 0.4423 - accuracy: 0.8783 - val_loss: 22.1270 - val_accuracy: 0.0763\n",
            "Epoch 27/100\n",
            "6724/6724 [==============================] - 2s 304us/step - loss: 0.4004 - accuracy: 0.8827 - val_loss: 22.8948 - val_accuracy: 0.0734\n",
            "Epoch 28/100\n",
            "6724/6724 [==============================] - 2s 300us/step - loss: 0.3725 - accuracy: 0.8932 - val_loss: 22.8071 - val_accuracy: 0.0791\n",
            "Epoch 29/100\n",
            "6724/6724 [==============================] - 2s 301us/step - loss: 0.3640 - accuracy: 0.8989 - val_loss: 21.9965 - val_accuracy: 0.0819\n",
            "Epoch 30/100\n",
            "6724/6724 [==============================] - 2s 303us/step - loss: 0.3427 - accuracy: 0.9005 - val_loss: 22.6034 - val_accuracy: 0.0763\n",
            "Epoch 31/100\n",
            "6724/6724 [==============================] - 2s 297us/step - loss: 0.3630 - accuracy: 0.8954 - val_loss: 22.7884 - val_accuracy: 0.0734\n",
            "Epoch 32/100\n",
            "6724/6724 [==============================] - 2s 301us/step - loss: 0.3980 - accuracy: 0.8865 - val_loss: 22.1284 - val_accuracy: 0.0847\n",
            "Epoch 33/100\n",
            "6724/6724 [==============================] - 2s 297us/step - loss: 0.4282 - accuracy: 0.8746 - val_loss: 22.2749 - val_accuracy: 0.0734\n",
            "Epoch 34/100\n",
            "6724/6724 [==============================] - 2s 297us/step - loss: 0.4761 - accuracy: 0.8629 - val_loss: 21.9332 - val_accuracy: 0.0763\n",
            "Epoch 35/100\n",
            "6724/6724 [==============================] - 2s 302us/step - loss: 0.5082 - accuracy: 0.8474 - val_loss: 21.4637 - val_accuracy: 0.0791\n",
            "Epoch 36/100\n",
            "6724/6724 [==============================] - 2s 297us/step - loss: 0.5399 - accuracy: 0.8455 - val_loss: 21.8370 - val_accuracy: 0.0763\n",
            "Epoch 37/100\n",
            "6724/6724 [==============================] - 2s 301us/step - loss: 0.5006 - accuracy: 0.8508 - val_loss: 21.2781 - val_accuracy: 0.0734\n",
            "Epoch 38/100\n",
            "6724/6724 [==============================] - 2s 295us/step - loss: 0.4579 - accuracy: 0.8699 - val_loss: 21.7257 - val_accuracy: 0.0706\n",
            "Epoch 39/100\n",
            "6724/6724 [==============================] - 2s 298us/step - loss: 0.3780 - accuracy: 0.8804 - val_loss: 21.9158 - val_accuracy: 0.0734\n",
            "Epoch 40/100\n",
            "6724/6724 [==============================] - 2s 293us/step - loss: 0.3090 - accuracy: 0.9020 - val_loss: 22.1920 - val_accuracy: 0.0763\n",
            "Epoch 41/100\n",
            "6724/6724 [==============================] - 2s 305us/step - loss: 0.2699 - accuracy: 0.9136 - val_loss: 22.8625 - val_accuracy: 0.0763\n",
            "Epoch 42/100\n",
            "6724/6724 [==============================] - 2s 292us/step - loss: 0.2345 - accuracy: 0.9218 - val_loss: 22.7237 - val_accuracy: 0.0791\n",
            "Epoch 43/100\n",
            "6724/6724 [==============================] - 2s 293us/step - loss: 0.2085 - accuracy: 0.9308 - val_loss: 22.6746 - val_accuracy: 0.0791\n",
            "Epoch 44/100\n",
            "6724/6724 [==============================] - 2s 293us/step - loss: 0.1909 - accuracy: 0.9353 - val_loss: 22.5484 - val_accuracy: 0.0791\n",
            "Epoch 45/100\n",
            "6724/6724 [==============================] - 2s 295us/step - loss: 0.1697 - accuracy: 0.9377 - val_loss: 22.7330 - val_accuracy: 0.0763\n",
            "Epoch 46/100\n",
            "6724/6724 [==============================] - 2s 297us/step - loss: 0.1588 - accuracy: 0.9386 - val_loss: 22.3654 - val_accuracy: 0.0763\n",
            "Epoch 47/100\n",
            "6724/6724 [==============================] - 2s 293us/step - loss: 0.1512 - accuracy: 0.9398 - val_loss: 22.3749 - val_accuracy: 0.0763\n",
            "Epoch 48/100\n",
            "6724/6724 [==============================] - 2s 299us/step - loss: 0.1490 - accuracy: 0.9407 - val_loss: 22.5299 - val_accuracy: 0.0763\n",
            "Epoch 49/100\n",
            "6724/6724 [==============================] - 2s 294us/step - loss: 0.1437 - accuracy: 0.9408 - val_loss: 22.3238 - val_accuracy: 0.0763\n",
            "Epoch 50/100\n",
            "6724/6724 [==============================] - 2s 296us/step - loss: 0.1465 - accuracy: 0.9396 - val_loss: 22.1251 - val_accuracy: 0.0763\n",
            "Epoch 51/100\n",
            "6724/6724 [==============================] - 2s 299us/step - loss: 0.1401 - accuracy: 0.9426 - val_loss: 22.2557 - val_accuracy: 0.0763\n",
            "Epoch 52/100\n",
            "6724/6724 [==============================] - 2s 301us/step - loss: 0.1384 - accuracy: 0.9414 - val_loss: 22.3367 - val_accuracy: 0.0763\n",
            "Epoch 53/100\n",
            "6724/6724 [==============================] - 2s 289us/step - loss: 0.1386 - accuracy: 0.9407 - val_loss: 22.1654 - val_accuracy: 0.0763\n",
            "Epoch 54/100\n",
            "6724/6724 [==============================] - 2s 301us/step - loss: 0.1345 - accuracy: 0.9419 - val_loss: 22.1901 - val_accuracy: 0.0763\n",
            "Epoch 55/100\n",
            "6724/6724 [==============================] - 2s 297us/step - loss: 0.1352 - accuracy: 0.9390 - val_loss: 22.1251 - val_accuracy: 0.0763\n",
            "Epoch 56/100\n",
            "6724/6724 [==============================] - 2s 296us/step - loss: 0.1332 - accuracy: 0.9398 - val_loss: 22.0305 - val_accuracy: 0.0763\n",
            "Epoch 57/100\n",
            "6724/6724 [==============================] - 2s 301us/step - loss: 0.1333 - accuracy: 0.9413 - val_loss: 22.0749 - val_accuracy: 0.0763\n",
            "Epoch 58/100\n",
            "6724/6724 [==============================] - 2s 296us/step - loss: 0.1305 - accuracy: 0.9393 - val_loss: 22.1061 - val_accuracy: 0.0763\n",
            "Epoch 59/100\n",
            "6724/6724 [==============================] - 2s 294us/step - loss: 0.1321 - accuracy: 0.9410 - val_loss: 22.0245 - val_accuracy: 0.0763\n",
            "Epoch 60/100\n",
            "6724/6724 [==============================] - 2s 293us/step - loss: 0.1298 - accuracy: 0.9401 - val_loss: 22.0514 - val_accuracy: 0.0763\n",
            "Epoch 61/100\n",
            "6724/6724 [==============================] - 2s 297us/step - loss: 0.1293 - accuracy: 0.9430 - val_loss: 22.0255 - val_accuracy: 0.0763\n",
            "Epoch 62/100\n",
            "6724/6724 [==============================] - 2s 296us/step - loss: 0.1285 - accuracy: 0.9404 - val_loss: 22.0958 - val_accuracy: 0.0763\n",
            "Epoch 63/100\n",
            "6724/6724 [==============================] - 2s 293us/step - loss: 0.1298 - accuracy: 0.9417 - val_loss: 22.1229 - val_accuracy: 0.0763\n",
            "Epoch 64/100\n",
            "6724/6724 [==============================] - 2s 293us/step - loss: 0.1296 - accuracy: 0.9411 - val_loss: 22.0748 - val_accuracy: 0.0763\n",
            "Epoch 65/100\n",
            "6724/6724 [==============================] - 2s 296us/step - loss: 0.1264 - accuracy: 0.9416 - val_loss: 22.2407 - val_accuracy: 0.0763\n",
            "Epoch 66/100\n",
            "6724/6724 [==============================] - 2s 295us/step - loss: 0.1277 - accuracy: 0.9405 - val_loss: 22.1875 - val_accuracy: 0.0763\n",
            "Epoch 67/100\n",
            "6724/6724 [==============================] - 2s 298us/step - loss: 0.1266 - accuracy: 0.9404 - val_loss: 22.1709 - val_accuracy: 0.0763\n",
            "Epoch 68/100\n",
            "6724/6724 [==============================] - 2s 301us/step - loss: 0.1289 - accuracy: 0.9416 - val_loss: 22.2671 - val_accuracy: 0.0763\n",
            "Epoch 69/100\n",
            "6724/6724 [==============================] - 2s 295us/step - loss: 0.1311 - accuracy: 0.9392 - val_loss: 22.1618 - val_accuracy: 0.0763\n",
            "Epoch 70/100\n",
            "6724/6724 [==============================] - 2s 294us/step - loss: 0.1280 - accuracy: 0.9401 - val_loss: 22.2547 - val_accuracy: 0.0763\n",
            "Epoch 71/100\n",
            "6724/6724 [==============================] - 2s 292us/step - loss: 0.1277 - accuracy: 0.9408 - val_loss: 22.0824 - val_accuracy: 0.0763\n",
            "Epoch 72/100\n",
            "6724/6724 [==============================] - 2s 299us/step - loss: 0.1271 - accuracy: 0.9405 - val_loss: 22.0379 - val_accuracy: 0.0763\n",
            "Epoch 73/100\n",
            "6724/6724 [==============================] - 2s 299us/step - loss: 0.1264 - accuracy: 0.9401 - val_loss: 22.1522 - val_accuracy: 0.0763\n",
            "Epoch 74/100\n",
            "6724/6724 [==============================] - 2s 293us/step - loss: 0.1260 - accuracy: 0.9395 - val_loss: 22.2502 - val_accuracy: 0.0763\n",
            "Epoch 75/100\n",
            "6724/6724 [==============================] - 2s 296us/step - loss: 0.1252 - accuracy: 0.9413 - val_loss: 22.1517 - val_accuracy: 0.0763\n",
            "Epoch 76/100\n",
            "6724/6724 [==============================] - 2s 303us/step - loss: 0.1233 - accuracy: 0.9408 - val_loss: 22.4417 - val_accuracy: 0.0763\n",
            "Epoch 77/100\n",
            "6724/6724 [==============================] - 2s 307us/step - loss: 0.1238 - accuracy: 0.9414 - val_loss: 22.3176 - val_accuracy: 0.0763\n",
            "Epoch 78/100\n",
            "6724/6724 [==============================] - 2s 302us/step - loss: 0.1262 - accuracy: 0.9417 - val_loss: 22.3608 - val_accuracy: 0.0763\n",
            "Epoch 79/100\n",
            "6724/6724 [==============================] - 2s 308us/step - loss: 0.1229 - accuracy: 0.9402 - val_loss: 22.5573 - val_accuracy: 0.0763\n",
            "Epoch 80/100\n",
            "6724/6724 [==============================] - 2s 305us/step - loss: 0.1244 - accuracy: 0.9411 - val_loss: 22.2987 - val_accuracy: 0.0763\n",
            "Epoch 81/100\n",
            "6724/6724 [==============================] - 2s 300us/step - loss: 0.1233 - accuracy: 0.9417 - val_loss: 22.5856 - val_accuracy: 0.0763\n",
            "Epoch 82/100\n",
            "6724/6724 [==============================] - 2s 297us/step - loss: 0.1221 - accuracy: 0.9424 - val_loss: 22.5925 - val_accuracy: 0.0763\n",
            "Epoch 83/100\n",
            "6724/6724 [==============================] - 2s 295us/step - loss: 0.1227 - accuracy: 0.9432 - val_loss: 22.6209 - val_accuracy: 0.0763\n",
            "Epoch 84/100\n",
            "6724/6724 [==============================] - 2s 298us/step - loss: 0.1223 - accuracy: 0.9435 - val_loss: 22.5572 - val_accuracy: 0.0763\n",
            "Epoch 85/100\n",
            "6724/6724 [==============================] - 2s 292us/step - loss: 0.1239 - accuracy: 0.9401 - val_loss: 22.6079 - val_accuracy: 0.0763\n",
            "Epoch 86/100\n",
            "6724/6724 [==============================] - 2s 298us/step - loss: 0.1220 - accuracy: 0.9426 - val_loss: 22.7293 - val_accuracy: 0.0763\n",
            "Epoch 87/100\n",
            "6724/6724 [==============================] - 2s 299us/step - loss: 0.1218 - accuracy: 0.9421 - val_loss: 22.6823 - val_accuracy: 0.0763\n",
            "Epoch 88/100\n",
            "6724/6724 [==============================] - 2s 296us/step - loss: 0.1213 - accuracy: 0.9405 - val_loss: 22.8153 - val_accuracy: 0.0763\n",
            "Epoch 89/100\n",
            "6724/6724 [==============================] - 2s 299us/step - loss: 0.1221 - accuracy: 0.9404 - val_loss: 22.6903 - val_accuracy: 0.0763\n",
            "Epoch 90/100\n",
            "6724/6724 [==============================] - 2s 296us/step - loss: 0.1222 - accuracy: 0.9408 - val_loss: 22.7638 - val_accuracy: 0.0763\n",
            "Epoch 91/100\n",
            "6724/6724 [==============================] - 2s 295us/step - loss: 0.1227 - accuracy: 0.9419 - val_loss: 22.6984 - val_accuracy: 0.0763\n",
            "Epoch 92/100\n",
            "6724/6724 [==============================] - 2s 296us/step - loss: 0.1245 - accuracy: 0.9402 - val_loss: 22.7027 - val_accuracy: 0.0763\n",
            "Epoch 93/100\n",
            "6724/6724 [==============================] - 2s 292us/step - loss: 0.1425 - accuracy: 0.9371 - val_loss: 22.6934 - val_accuracy: 0.0763\n",
            "Epoch 94/100\n",
            "6724/6724 [==============================] - 2s 296us/step - loss: 1.7001 - accuracy: 0.6440 - val_loss: 11.3836 - val_accuracy: 0.0706\n",
            "Epoch 95/100\n",
            "6724/6724 [==============================] - 2s 295us/step - loss: 3.6799 - accuracy: 0.2794 - val_loss: 10.2317 - val_accuracy: 0.0791\n",
            "Epoch 96/100\n",
            "6724/6724 [==============================] - 2s 294us/step - loss: 2.7556 - accuracy: 0.3788 - val_loss: 11.2491 - val_accuracy: 0.0763\n",
            "Epoch 97/100\n",
            "6724/6724 [==============================] - 2s 300us/step - loss: 1.8818 - accuracy: 0.5204 - val_loss: 13.0428 - val_accuracy: 0.0706\n",
            "Epoch 98/100\n",
            "6724/6724 [==============================] - 2s 295us/step - loss: 1.3013 - accuracy: 0.6465 - val_loss: 14.4392 - val_accuracy: 0.0847\n",
            "Epoch 99/100\n",
            "6724/6724 [==============================] - 2s 301us/step - loss: 0.9208 - accuracy: 0.7335 - val_loss: 16.2835 - val_accuracy: 0.0791\n",
            "Epoch 100/100\n",
            "6724/6724 [==============================] - 2s 299us/step - loss: 0.6490 - accuracy: 0.8080 - val_loss: 17.4200 - val_accuracy: 0.0763\n",
            "ten lines of code\n",
            "\n",
            "httpbitlycznfj\n"
          ],
          "name": "stdout"
        },
        {
          "output_type": "display_data",
          "data": {
            "image/png": "[encoded data removed]",
            "text/plain": [
              "<Figure size 432x288 with 1 Axes>"
            ]
          },
          "metadata": {
            "tags": [],
            "needs_background": "light"
          }
        }
      ]
    },
    {
      "cell_type": "code",
      "metadata": {
        "id": "I8fvLYLbt2MN",
        "colab_type": "code",
        "colab": {}
      },
      "source": [
        "from google.colab import drive\n",
        "drive.mount('/content/drive')"
      ],
      "execution_count": 0,
      "outputs": []
    },
    {
      "cell_type": "code",
      "metadata": {
        "id": "aV0wqSD9l30H",
        "colab_type": "code",
        "colab": {}
      },
      "source": [
        ""
      ],
      "execution_count": 0,
      "outputs": []
    }
  ]
}